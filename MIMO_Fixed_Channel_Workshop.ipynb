{
  "nbformat": 4,
  "nbformat_minor": 0,
  "metadata": {
    "colab": {
      "name": "MIMO_FC.ipynb",
      "provenance": [],
      "collapsed_sections": [],
      "include_colab_link": true
    },
    "kernelspec": {
      "name": "python3",
      "display_name": "Python 3"
    },
    "accelerator": "GPU"
  },
  "cells": [
    {
      "cell_type": "markdown",
      "metadata": {
        "id": "view-in-github",
        "colab_type": "text"
      },
      "source": [
        "<a href=\"https://colab.research.google.com/github/dkanzariya/Workshop/blob/main/MIMO_Fixed_Channel_Workshop.ipynb\" target=\"_parent\"><img src=\"https://colab.research.google.com/assets/colab-badge.svg\" alt=\"Open In Colab\"/></a>"
      ]
    },
    {
      "cell_type": "markdown",
      "metadata": {
        "id": "W9lggjGaMB6r"
      },
      "source": [
        "###Deep MIMO Detection ( Fixed Channel )\n",
        "https://arxiv.org/pdf/1706.01151.pdf"
      ]
    },
    {
      "cell_type": "code",
      "metadata": {
        "id": "3CejEwk4LQUX",
        "colab": {
          "base_uri": "https://localhost:8080/"
        },
        "outputId": "3b1569bb-d2ba-4c65-894f-4127a10c9ed2"
      },
      "source": [
        "%tensorflow_version 1.x\n",
        "\n",
        "import tensorflow as tf\n",
        "import numpy as np\n",
        "import time as tm\n",
        "from tensorflow import keras\n",
        "import matplotlib.pyplot as plt\n",
        "\n",
        "print(tf.__version__)"
      ],
      "execution_count": 17,
      "outputs": [
        {
          "output_type": "stream",
          "text": [
            "1.15.2\n"
          ],
          "name": "stdout"
        }
      ]
    },
    {
      "cell_type": "code",
      "metadata": {
        "id": "ksDkltGeLdzW"
      },
      "source": [
        "def generate_data(B,K,N,snr_low,snr_high,H_org):\n",
        "    # H_=np.random.randn(B,N,K)\n",
        "    x_=np.sign(np.random.rand(B,K)-0.5)\n",
        "    y_=np.zeros([B,N])\n",
        "    w=np.random.randn(B,N)\n",
        "    SNR_ = np.zeros([B])\n",
        "    for i in range(B):\n",
        "\n",
        "      SNR = np.random.uniform(low=snr_low,high=snr_high)\n",
        "      H=H_org\n",
        "      tmp_snr=(H.T.dot(H)).trace()/K\n",
        "      y_[i,:]=(H.dot(x_[i,:])+w[i,:]*np.sqrt(tmp_snr)/np.sqrt(SNR))\n",
        "\n",
        "      SNR_[i]=SNR\n",
        "\n",
        "    return y_,x_,SNR_"
      ],
      "execution_count": 2,
      "outputs": []
    },
    {
      "cell_type": "code",
      "metadata": {
        "id": "nm2bE9wYLk3V"
      },
      "source": [
        "K = 20\n",
        "N = 30\n",
        "B = 10000\n",
        "\n",
        "low_snr_db_train = 7.0\n",
        "high_snr_db_train = 14.0\n",
        "low_snr_db_test = 8.0\n",
        "high_snr_db_test = 13.0\n",
        "\n",
        "num_snr = 6\n",
        "\n",
        "H=np.genfromtxt('Top06_30_20.csv', dtype=None, delimiter=',')\n",
        "\n",
        "#end of parameters\n",
        "\n",
        "low_snr_train = 10.0 ** (low_snr_db_train/10.0)\n",
        "high_snr_train = 10.0 ** (high_snr_db_train/10.0)\n",
        "low_snr_test = 10.0 ** (low_snr_db_test/10.0)\n",
        "high_snr_test = 10.0 ** (high_snr_db_test/10.0)\n",
        "\n",
        "bers = np.zeros((1,num_snr))\n",
        "loss = np.zeros((1,num_snr))\n"
      ],
      "execution_count": 4,
      "outputs": []
    },
    {
      "cell_type": "code",
      "metadata": {
        "id": "YcPg3czFDQx8",
        "colab": {
          "base_uri": "https://localhost:8080/"
        },
        "outputId": "9a3b26df-9465-4c8a-f229-c9e432be9fbf"
      },
      "source": [
        "batch_Y, batch_X , SNR1 = generate_data(B , K , N , low_snr_train , high_snr_train , H)\n",
        "print(H.shape)"
      ],
      "execution_count": 5,
      "outputs": [
        {
          "output_type": "stream",
          "text": [
            "(30, 20)\n"
          ],
          "name": "stdout"
        }
      ]
    },
    {
      "cell_type": "code",
      "metadata": {
        "id": "Stywbz_gNElE",
        "colab": {
          "base_uri": "https://localhost:8080/"
        },
        "outputId": "e2fec2c3-a36e-4579-9b96-e70c1b5f9ad5"
      },
      "source": [
        "model = keras.Sequential()\n",
        "model.add(keras.layers.Dense(200, input_shape=(N,),activation=tf.nn.relu))\n",
        "for i in range(4):\n",
        "    model.add(keras.layers.Dense(200,activation=tf.nn.relu))\n",
        "\n",
        "h_final = model.add(keras.layers.Dense(K))"
      ],
      "execution_count": 6,
      "outputs": [
        {
          "output_type": "stream",
          "text": [
            "WARNING:tensorflow:From /tensorflow-1.15.2/python3.7/tensorflow_core/python/ops/resource_variable_ops.py:1630: calling BaseResourceVariable.__init__ (from tensorflow.python.ops.resource_variable_ops) with constraint is deprecated and will be removed in a future version.\n",
            "Instructions for updating:\n",
            "If using Keras pass *_constraint arguments to layers.\n"
          ],
          "name": "stdout"
        }
      ]
    },
    {
      "cell_type": "code",
      "metadata": {
        "id": "MHT0bObkBF_t"
      },
      "source": [
        "model.compile(optimizer= tf.train.AdamOptimizer(), loss='mse', \n",
        "              metrics=[tf.keras.metrics.TruePositives()])"
      ],
      "execution_count": 7,
      "outputs": []
    },
    {
      "cell_type": "code",
      "metadata": {
        "id": "DEJl5dk7XCf_",
        "colab": {
          "base_uri": "https://localhost:8080/"
        },
        "outputId": "83bdf440-58b4-4ba3-96c8-c9e14a9bf384"
      },
      "source": [
        "history=model.fit(batch_Y, batch_X, epochs=5)\n",
        "model.evaluate(batch_Y,batch_X,10000)"
      ],
      "execution_count": 8,
      "outputs": [
        {
          "output_type": "stream",
          "text": [
            "Train on 10000 samples\n",
            "Epoch 1/5\n",
            "10000/10000 [==============================] - 2s 168us/sample - loss: 0.2797 - true_positives: 70158.0000\n",
            "Epoch 2/5\n",
            "10000/10000 [==============================] - 1s 125us/sample - loss: 0.1672 - true_positives: 82279.0000\n",
            "Epoch 3/5\n",
            "10000/10000 [==============================] - 1s 128us/sample - loss: 0.1535 - true_positives: 83872.0000\n",
            "Epoch 4/5\n",
            "10000/10000 [==============================] - 1s 131us/sample - loss: 0.1388 - true_positives: 85913.0000\n",
            "Epoch 5/5\n",
            "10000/10000 [==============================] - 1s 128us/sample - loss: 0.1196 - true_positives: 88507.0000\n",
            "10000/10000 [==============================] - 0s 11us/sample - loss: 0.1022 - true_positives: 91227.0000\n"
          ],
          "name": "stdout"
        },
        {
          "output_type": "execute_result",
          "data": {
            "text/plain": [
              "[0.10215491056442261, 91227.0]"
            ]
          },
          "metadata": {
            "tags": []
          },
          "execution_count": 8
        }
      ]
    },
    {
      "cell_type": "code",
      "metadata": {
        "id": "nZec3sK3ZHE3",
        "colab": {
          "base_uri": "https://localhost:8080/"
        },
        "outputId": "66367e62-89fb-4796-f15c-c81a2f1020ad"
      },
      "source": [
        "# batch_Y[0].reshape(30,)\n",
        "i = int(501)\n",
        "print(batch_Y[i].shape)\n",
        "x = np.expand_dims(batch_Y[i], axis=0)\n",
        "Y = np.vstack([x])\n",
        "classes = model.predict(Y,batch_size = 20)\n",
        "model.summary()\n",
        "result=np.where(classes > 0, 1, -1)\n",
        "result=result.reshape(20,)\n",
        "print(result)\n",
        "X=batch_X[i].reshape(20,)\n",
        "print(X)\n",
        "print(X == result)\n"
      ],
      "execution_count": 9,
      "outputs": [
        {
          "output_type": "stream",
          "text": [
            "(30,)\n",
            "Model: \"sequential\"\n",
            "_________________________________________________________________\n",
            "Layer (type)                 Output Shape              Param #   \n",
            "=================================================================\n",
            "dense (Dense)                (None, 200)               6200      \n",
            "_________________________________________________________________\n",
            "dense_1 (Dense)              (None, 200)               40200     \n",
            "_________________________________________________________________\n",
            "dense_2 (Dense)              (None, 200)               40200     \n",
            "_________________________________________________________________\n",
            "dense_3 (Dense)              (None, 200)               40200     \n",
            "_________________________________________________________________\n",
            "dense_4 (Dense)              (None, 200)               40200     \n",
            "_________________________________________________________________\n",
            "dense_5 (Dense)              (None, 20)                4020      \n",
            "=================================================================\n",
            "Total params: 171,020\n",
            "Trainable params: 171,020\n",
            "Non-trainable params: 0\n",
            "_________________________________________________________________\n",
            "[-1 -1 -1  1 -1  1  1  1  1 -1 -1 -1  1  1 -1  1  1 -1 -1 -1]\n",
            "[-1. -1. -1.  1. -1.  1.  1.  1.  1.  1. -1. -1.  1.  1. -1.  1.  1. -1.\n",
            " -1. -1.]\n",
            "[ True  True  True  True  True  True  True  True  True False  True  True\n",
            "  True  True  True  True  True  True  True  True]\n"
          ],
          "name": "stdout"
        }
      ]
    },
    {
      "cell_type": "code",
      "metadata": {
        "id": "9T7ld5b-dBDz"
      },
      "source": [
        "#test data\n",
        "test_iter = 1\n",
        "tmp_bers = np.zeros((1,test_iter))\n",
        "tmp_times = np.zeros((1,test_iter))\n",
        "times = np.zeros((1,1))\n",
        "testHitCount = 0\n",
        "\n",
        "snr_list_db = np.linspace(low_snr_db_test,high_snr_db_test,num_snr)\n",
        "snr_list = 10.0**(snr_list_db/10.0)"
      ],
      "execution_count": 10,
      "outputs": []
    },
    {
      "cell_type": "code",
      "metadata": {
        "id": "zNbAt8G4hXRS",
        "colab": {
          "base_uri": "https://localhost:8080/"
        },
        "outputId": "60f77078-4e29-40f6-d68c-64dc9e305e42"
      },
      "source": [
        "loss = []\n",
        "bers = []\n",
        "\n",
        "for i_snr in range (num_snr):\n",
        "  Cur_SNR = snr_list[i_snr]\n",
        "  print ('cur snr')\n",
        "  print (Cur_SNR)\n",
        "  \n",
        "  for i in range (test_iter):\n",
        "    batch_Y, batch_X , SNR1= generate_data(B , K , N , Cur_SNR , Cur_SNR , H)\n",
        "    tic = tm.time()\n",
        "    [loss,acc] = model.evaluate(batch_Y,batch_X)\n",
        "    tmp_bers[0][i] = acc\n",
        "    # print(tmp_bers)\n",
        "    toc = tm.time()\n",
        "    tmp_times[0][i] = toc-tic\n",
        "  cnt= float(np.mean(tmp_bers[0]))\n",
        "  bers.append([cnt])\n",
        "\n",
        "print(bers)"
      ],
      "execution_count": 11,
      "outputs": [
        {
          "output_type": "stream",
          "text": [
            "cur snr\n",
            "6.309573444801933\n",
            "10000/10000 [==============================] - 0s 47us/sample - loss: 0.2141 - true_positives: 82925.0000\n",
            "cur snr\n",
            "7.943282347242816\n",
            "10000/10000 [==============================] - 0s 43us/sample - loss: 0.1744 - true_positives: 84662.0000\n",
            "cur snr\n",
            "10.0\n",
            "10000/10000 [==============================] - 0s 42us/sample - loss: 0.1418 - true_positives: 87119.0000\n",
            "cur snr\n",
            "12.589254117941675\n",
            "10000/10000 [==============================] - 0s 45us/sample - loss: 0.1181 - true_positives: 89311.0000\n",
            "cur snr\n",
            "15.848931924611133\n",
            "10000/10000 [==============================] - 0s 44us/sample - loss: 0.0989 - true_positives: 90950.0000\n",
            "cur snr\n",
            "19.952623149688797\n",
            "10000/10000 [==============================] - 0s 44us/sample - loss: 0.0843 - true_positives: 92223.0000\n",
            "[[82925.0], [84662.0], [87119.0], [89311.0], [90950.0], [92223.0]]\n"
          ],
          "name": "stdout"
        }
      ]
    },
    {
      "cell_type": "code",
      "metadata": {
        "id": "TWTB5ugvxKLC",
        "colab": {
          "base_uri": "https://localhost:8080/",
          "height": 265
        },
        "outputId": "8437a27e-b800-4e81-d179-7d3e6490753b"
      },
      "source": [
        "# bers =  bers/(K*B)\n",
        "# bers = 1- bers\n",
        "bers = np.reshape(bers,(6,))\n",
        "snrdb_list = np.linspace(low_snr_db_test,high_snr_db_test,num_snr)\n",
        "plt.plot(snrdb_list,bers,color='red', linestyle='dashed', linewidth = 3, \n",
        "         marker='o', markerfacecolor='blue', markersize=12)\n",
        "plt.show() "
      ],
      "execution_count": 12,
      "outputs": [
        {
          "output_type": "display_data",
          "data": {
            "image/png": "[encoded data removed]",
            "text/plain": [
              "<Figure size 432x288 with 1 Axes>"
            ]
          },
          "metadata": {
            "tags": [],
            "needs_background": "light"
          }
        }
      ]
    },
    {
      "cell_type": "code",
      "metadata": {
        "id": "rv3zFNFhfVxn",
        "colab": {
          "base_uri": "https://localhost:8080/"
        },
        "outputId": "9eea0e05-59ee-4ce4-a4d9-63392941f7d8"
      },
      "source": [
        "times[0][0] = np.mean(tmp_times[0])/B\n",
        "print ('Average time to detect a single K bit signal is:')\n",
        "print (times)\n",
        "ber =  bers/(K*B*5)\n",
        "be = 1 - ber\n",
        "print('snrdb_list')\n",
        "print(snrdb_list)\n",
        "print ('Bit error rates are is:')\n",
        "print(ber)"
      ],
      "execution_count": 13,
      "outputs": [
        {
          "output_type": "stream",
          "text": [
            "Average time to detect a single K bit signal is:\n",
            "[[4.43989992e-05]]\n",
            "snrdb_list\n",
            "[ 8.  9. 10. 11. 12. 13.]\n",
            "Bit error rates are is:\n",
            "[0.082925 0.084662 0.087119 0.089311 0.09095  0.092223]\n"
          ],
          "name": "stdout"
        }
      ]
    },
    {
      "cell_type": "code",
      "metadata": {
        "id": "IgpTTfzzcS7l",
        "colab": {
          "base_uri": "https://localhost:8080/",
          "height": 265
        },
        "outputId": "37f7383c-e6b2-425e-d952-d82b3edd8e99"
      },
      "source": [
        "be = np.reshape(be,(6,))\n",
        "snrdb_list = np.linspace(low_snr_db_test,high_snr_db_test,num_snr)\n",
        "plt.plot(snrdb_list,be,color='red', linestyle='dashed', linewidth = 3, \n",
        "         marker='o', markerfacecolor='blue', markersize=12)\n",
        "plt.show() "
      ],
      "execution_count": 14,
      "outputs": [
        {
          "output_type": "display_data",
          "data": {
            "image/png": "[encoded data removed]",
            "text/plain": [
              "<Figure size 432x288 with 1 Axes>"
            ]
          },
          "metadata": {
            "tags": [],
            "needs_background": "light"
          }
        }
      ]
    },
    {
      "cell_type": "code",
      "metadata": {
        "id": "diZB4ie4Wh5C",
        "colab": {
          "base_uri": "https://localhost:8080/"
        },
        "outputId": "49d97be8-2a7e-4a5c-e44b-0f53b1a90517"
      },
      "source": [
        "i = int(1066)\n",
        "x = np.expand_dims(batch_Y[i], axis=0)\n",
        "Y = np.vstack([x])\n",
        "classes = model.predict(Y,batch_size = 20)\n",
        "result=np.where(classes > 0, 1, -1)\n",
        "result=result.reshape(20,)\n",
        "print(result)\n",
        "X=batch_X[i].reshape(20,)\n",
        "print(X)\n",
        "print(X == result)"
      ],
      "execution_count": 15,
      "outputs": [
        {
          "output_type": "stream",
          "text": [
            "[-1 -1 -1 -1 -1 -1  1  1 -1  1 -1 -1  1  1 -1 -1  1  1  1 -1]\n",
            "[-1. -1. -1. -1. -1. -1.  1.  1. -1.  1. -1. -1.  1.  1. -1. -1.  1.  1.\n",
            "  1. -1.]\n",
            "[ True  True  True  True  True  True  True  True  True  True  True  True\n",
            "  True  True  True  True  True  True  True  True]\n"
          ],
          "name": "stdout"
        }
      ]
    },
    {
      "cell_type": "code",
      "metadata": {
        "id": "em9A1FgBBdG-"
      },
      "source": [
        ""
      ],
      "execution_count": null,
      "outputs": []
    }
  ]
}