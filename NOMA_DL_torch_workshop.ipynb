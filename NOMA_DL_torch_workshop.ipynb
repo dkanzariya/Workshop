{
  "nbformat": 4,
  "nbformat_minor": 0,
  "metadata": {
    "colab": {
      "name": "NOMA_DL_torch.ipynb",
      "provenance": [],
      "collapsed_sections": []
    },
    "kernelspec": {
      "name": "python3",
      "display_name": "Python 3"
    },
    "accelerator": "GPU"
  },
  "cells": [
    {
      "cell_type": "code",
      "metadata": {
        "id": "YPjrsdsdqLg_"
      },
      "source": [
        "import numpy as np\n",
        "import math\n",
        "import torch\n",
        "from torch import nn\n",
        "import matplotlib.pyplot as plt\n",
        "import tensorflow as tf\n",
        "\n",
        "np.random.seed(5)\n",
        "\n",
        "bit = 8\n",
        "train_size = 1000\n",
        "SNR_db = np.array(list(range(0 ,11 ,2)))\n",
        "batch_size = 5\n",
        "test_size = 100\n",
        "iter = 1"
      ],
      "execution_count": 1,
      "outputs": []
    },
    {
      "cell_type": "code",
      "metadata": {
        "id": "a-_qhwrYnWAn"
      },
      "source": [
        "def generate_data_bit(bit, batch_size):\n",
        "\n",
        "    input = [[0 for _ in range(pow(2, bit)) ]for _ in range(bit)]       #len = 8 [0,1]\n",
        "    label = [[0 for _ in range(pow(2, bit)) ]for _ in range( 2 * bit)]   #len = 16 [0,1]\n",
        "\n",
        "    for i in range(1<<bit):\n",
        "        for j in range(bit):\n",
        "            if i & ( 1<<j):\n",
        "                input[ bit - j -1][i] = 1\n",
        "\n",
        "    for i in range( 1<<bit):\n",
        "        for j in range(bit):\n",
        "            if input[j][i] == 1:\n",
        "                label[ 2 * j ][i] = 1\n",
        "                label[ 2 * j +1][i] = 0\n",
        "            else:\n",
        "                label[ 2 *j][i] = 0\n",
        "                label[ 2 * j +1][i] = 1\n",
        "\n",
        "    input = np.tile(np.array(input) ,batch_size) # (8, 1280)\n",
        "    label = np.tile(np.array(label) ,batch_size) #(16, 1280)\n",
        "    \n",
        "    return input, label\n",
        "\n",
        "def generate(M, N, batch_size):\n",
        "\n",
        "    input, label = generate_data_bit(M, batch_size)\n",
        "\n",
        "    ran1 = np.random.permutation(batch_size * pow(2, M))  # Suffling Dataset\n",
        "    ran2 = np.random.permutation(batch_size * pow(2, M))\n",
        "\n",
        "    symbol1 = 2 * input[:, ran1] - 1  # len = 8 [-1, 1]\n",
        "    symbol2 = 2 * input[:, ran2] - 1\n",
        "\n",
        "    SPC = math.sqrt(0.8) * symbol1 + math.sqrt(0.2) * symbol2  # Superposition Coding\n",
        "    # len = 8 , [-/+0.4472136   -/+1.34164079]\n",
        "    \n",
        "    label1 = np.transpose(label[:, ran1].astype('float32'))  # (batch_size * 256, 16)\n",
        "    label2 = np.transpose(label[:, ran2].astype('float32'))\n",
        "    \n",
        "    return SPC, label1, label2\n",
        "\n",
        "def generate_input(H1_real, H1_image, SPC, N, batch_size, sigma):\n",
        "\n",
        "    N_real, N_image = generate_channel(N, batch_size * pow(2, N), 0)\n",
        "\n",
        "    input1_real = np.matmul(H1_real, SPC) + sigma * N_real\n",
        "    input1_img = np.matmul(H1_image, SPC) + sigma * N_image\n",
        "\n",
        "    input1 = np.transpose(np.concatenate((input1_real, input1_img), axis=0))\n",
        "\n",
        "    return input1\n",
        "\n",
        "def generate_channel(N, M, k):\n",
        "\n",
        "    h1 = np.random.randn(N, M) / math.sqrt(2)\n",
        "    h2 = np.random.randn(N, M) / math.sqrt(2)\n",
        "\n",
        "    if k == 0:\n",
        "        return h1, h2\n",
        "    else:\n",
        "        return 2 * h1, 2 * h2"
      ],
      "execution_count": 2,
      "outputs": []
    },
    {
      "cell_type": "code",
      "metadata": {
        "id": "wd-hXm1ZqSDf",
        "colab": {
          "base_uri": "https://localhost:8080/"
        },
        "outputId": "7173341b-33ea-4182-8884-2f8afaad2ad1"
      },
      "source": [
        "H1_real, H1_image = generate_channel(bit, bit, 0)\n",
        "H2_real, H2_image = generate_channel(bit, bit, 1)\n",
        "\n",
        "print('training operation')\n",
        "for i in range(len(SNR_db)):\n",
        "\n",
        "            SPC, label1_train, _ = generate(bit, bit, batch_size * train_size)\n",
        "            signal_power = np.mean(pow(SPC, 2))\n",
        "            sigma_user1  = math.sqrt(signal_power / (math.sqrt(bit) * pow(10, float(SNR_db[i]) / 10.0)))\n",
        "            input1_train = generate_input(H1_real, H1_image, SPC, bit, batch_size * train_size, sigma_user1)\n",
        "\n",
        "            SPC, _, label2_train = generate(bit, bit, batch_size * train_size)\n",
        "            signal_power = np.mean(pow(SPC, 2))\n",
        "            sigma_user2 = math.sqrt(signal_power / (math.sqrt(bit) * pow(10, float(SNR_db[i]) / 10.0)))\n",
        "            input2_train = generate_input(H2_real, H2_image, SPC, bit, batch_size * train_size, sigma_user2)\n",
        "            "
      ],
      "execution_count": 3,
      "outputs": [
        {
          "output_type": "stream",
          "text": [
            "training operation\n"
          ],
          "name": "stdout"
        }
      ]
    },
    {
      "cell_type": "code",
      "metadata": {
        "id": "y0YUo1KLAXqn"
      },
      "source": [
        "def accuracy(out, label, bit):\n",
        "  \n",
        "  accuracy = 0\n",
        "  for i in range(bit):\n",
        "\n",
        "    acc = tf.reduce_mean(tf.cast(tf.equal(tf.argmax(tf.slice(out, [0, 2* i], [-1, 2]), 1),\n",
        "                                              tf.argmax(tf.slice(label, [0, 2 * i], [-1, 2]), 1)),\n",
        "                                     dtype=tf.float32))\n",
        "    accuracy += acc \n",
        "  \n",
        "  return accuracy / 8"
      ],
      "execution_count": 4,
      "outputs": []
    },
    {
      "cell_type": "code",
      "metadata": {
        "id": "tZKJQ_1zV4bj",
        "colab": {
          "base_uri": "https://localhost:8080/"
        },
        "outputId": "6a865450-228c-4d81-88d6-4d41efaf932c"
      },
      "source": [
        "Train = { \"input1_train\" : input1_train, \"train_label1\" : label1_train, \"input2_train\" : input2_train, \"train_label2\" : label2_train }\n",
        "print(\"training data \\n\")\n",
        "print('User1 train input : {}'.format(input1_train.shape))\n",
        "print('User1 train label : {}'.format(label1_train.shape))\n",
        "print('User2 train input : {}'.format(input2_train.shape))\n",
        "print('User2 train label : {}'.format(label2_train.shape))"
      ],
      "execution_count": 5,
      "outputs": [
        {
          "output_type": "stream",
          "text": [
            "training data \n",
            "\n",
            "User1 train input : (1280000, 16)\n",
            "User1 train label : (1280000, 16)\n",
            "User2 train input : (1280000, 16)\n",
            "User2 train label : (1280000, 16)\n"
          ],
          "name": "stdout"
        }
      ]
    },
    {
      "cell_type": "code",
      "metadata": {
        "id": "wOOSSxFCItuD"
      },
      "source": [
        "device = torch.device(f'cuda:{0}')\n",
        "\n",
        "input1_train = torch.Tensor(input1_train)\n",
        "label1_train = torch.Tensor(label1_train)\n",
        "input1 = input1_train.cuda()\n",
        "label1= label1_train.cuda()\n",
        "\n",
        "input2_train = torch.Tensor(input2_train)\n",
        "label2_train = torch.Tensor(label2_train)\n",
        "input2 = input2_train.cuda()\n",
        "label2 = label2_train.cuda()"
      ],
      "execution_count": 6,
      "outputs": []
    },
    {
      "cell_type": "code",
      "metadata": {
        "id": "TdRk-14IA-F1",
        "colab": {
          "base_uri": "https://localhost:8080/"
        },
        "outputId": "e7ec81f8-48fa-4efd-c8aa-07cdc45ee292"
      },
      "source": [
        "net = nn.Sequential(\n",
        "    nn.Linear(16, 32), nn.BatchNorm1d(32), nn.ReLU(),\n",
        "    nn.Linear(32, 32), nn.BatchNorm1d(32), nn.ReLU(),\n",
        "    nn.Linear(32, 32), nn.BatchNorm1d(32), nn.ReLU(),\n",
        "    nn.Linear(32, 32), nn.BatchNorm1d(32), nn.ReLU(),\n",
        "    nn.Linear(32, 32), nn.BatchNorm1d(32), nn.ReLU(),\n",
        "    nn.Linear(32, 16), nn.BatchNorm1d(16), \n",
        ")\n",
        "\n",
        "net1 = net.to(device = device)\n",
        "net2 = net.to(device = device)\n",
        "def init_weights(m):\n",
        "    if type(m) == nn.Linear:\n",
        "        torch.nn.init.normal_(m.weight, std=0.01)\n",
        "\n",
        "net1.apply(init_weights)\n",
        "net2.apply(init_weights)"
      ],
      "execution_count": 7,
      "outputs": [
        {
          "output_type": "execute_result",
          "data": {
            "text/plain": [
              "Sequential(\n",
              "  (0): Linear(in_features=16, out_features=32, bias=True)\n",
              "  (1): BatchNorm1d(32, eps=1e-05, momentum=0.1, affine=True, track_running_stats=True)\n",
              "  (2): ReLU()\n",
              "  (3): Linear(in_features=32, out_features=32, bias=True)\n",
              "  (4): BatchNorm1d(32, eps=1e-05, momentum=0.1, affine=True, track_running_stats=True)\n",
              "  (5): ReLU()\n",
              "  (6): Linear(in_features=32, out_features=32, bias=True)\n",
              "  (7): BatchNorm1d(32, eps=1e-05, momentum=0.1, affine=True, track_running_stats=True)\n",
              "  (8): ReLU()\n",
              "  (9): Linear(in_features=32, out_features=32, bias=True)\n",
              "  (10): BatchNorm1d(32, eps=1e-05, momentum=0.1, affine=True, track_running_stats=True)\n",
              "  (11): ReLU()\n",
              "  (12): Linear(in_features=32, out_features=32, bias=True)\n",
              "  (13): BatchNorm1d(32, eps=1e-05, momentum=0.1, affine=True, track_running_stats=True)\n",
              "  (14): ReLU()\n",
              "  (15): Linear(in_features=32, out_features=16, bias=True)\n",
              "  (16): BatchNorm1d(16, eps=1e-05, momentum=0.1, affine=True, track_running_stats=True)\n",
              ")"
            ]
          },
          "metadata": {
            "tags": []
          },
          "execution_count": 7
        }
      ]
    },
    {
      "cell_type": "code",
      "metadata": {
        "id": "w5uasPNXw6Nd",
        "colab": {
          "base_uri": "https://localhost:8080/"
        },
        "outputId": "da5ff513-f6d4-4870-a725-ea92ad684ac8"
      },
      "source": [
        "import torch.optim as optim\n",
        "\n",
        "loss = nn.MSELoss()\n",
        "\n",
        "for i in range(5):\n",
        "\n",
        "  optimizer1 = optim.SGD(net1.parameters(), lr = 0.01)\n",
        "  optimizer1.zero_grad()\n",
        "  output1 = net1(input1)\n",
        "  l1 = loss(output1, label1)\n",
        "  l1.backward()\n",
        "  optimizer1.step()\n",
        "  op1 = torch.Tensor.cpu(output1)\n",
        "  out1 = op1.detach().numpy()\n",
        "  acc1 = accuracy(out1, label1_train, bit)\n",
        "  print(\"iter {}  : {} \".format(i,acc1))"
      ],
      "execution_count": 8,
      "outputs": [
        {
          "output_type": "stream",
          "text": [
            "iter 0  : 0.48496007919311523 \n",
            "iter 1  : 0.6725721955299377 \n",
            "iter 2  : 0.7511252760887146 \n",
            "iter 3  : 0.7893839478492737 \n",
            "iter 4  : 0.8089123964309692 \n"
          ],
          "name": "stdout"
        }
      ]
    },
    {
      "cell_type": "code",
      "metadata": {
        "id": "0Utp03_8CTfM",
        "colab": {
          "base_uri": "https://localhost:8080/"
        },
        "outputId": "18ee46a2-0784-4976-8e62-797bba89892b"
      },
      "source": [
        "for i in range(5):\n",
        "  \n",
        "  output2 = net2(input2)\n",
        "  optimizer2 = optim.SGD(net2.parameters(), lr = 0.01)\n",
        "  optimizer2.zero_grad()\n",
        "  l2 = loss(output2, label2)\n",
        "  l2.backward()\n",
        "  optimizer2.step()  \n",
        "  op2 = torch.Tensor.cpu(output2)\n",
        "  out2 = op2.detach().numpy()\n",
        "  acc2 = accuracy(out2, label2_train, bit)\n",
        "  print(\"iter {} : {} \".format(i,acc2))"
      ],
      "execution_count": 9,
      "outputs": [
        {
          "output_type": "stream",
          "text": [
            "iter 0 : 0.495258629322052 \n",
            "iter 1 : 0.571304976940155 \n",
            "iter 2 : 0.5998905897140503 \n",
            "iter 3 : 0.6092362403869629 \n",
            "iter 4 : 0.6126348376274109 \n"
          ],
          "name": "stdout"
        }
      ]
    },
    {
      "cell_type": "code",
      "metadata": {
        "id": "ZtLNFXKF4cWu"
      },
      "source": [
        "ERROR_user1 = np.zeros([len(SNR_db), iter])\n",
        "ERROR_user2 = np.zeros([len(SNR_db), iter])"
      ],
      "execution_count": 10,
      "outputs": []
    },
    {
      "cell_type": "code",
      "metadata": {
        "id": "9kx-w-Nm_jfy",
        "colab": {
          "base_uri": "https://localhost:8080/"
        },
        "outputId": "12df0f61-cdc1-4ce7-8986-c0abb7dd3875"
      },
      "source": [
        "for k in range(iter):\n",
        "  print('testing operation')\n",
        "  for i in range(len(SNR_db)):\n",
        "        \n",
        "        SPC_test, label1_test, label2_test = generate(bit, bit, batch_size * test_size)\n",
        "        signal_power = np.mean(pow(SPC, 2))\n",
        "        sigma_test = math.sqrt(signal_power / (math.sqrt(bit) * pow(10, float(SNR_db[i]) / 10.0)))\n",
        "        input1_test = generate_input(H1_real, H1_image, SPC_test, bit, batch_size * test_size, sigma_test)\n",
        "        input2_test = generate_input(H2_real, H2_image, SPC_test, bit, batch_size * test_size, sigma_test)\n",
        "        \n",
        "        input1_test = torch.Tensor(input1_test)\n",
        "        label1_test = torch.Tensor(label1_test)\n",
        "        input_test1 = input1_test.cuda()\n",
        "        label_test1 = label1_test.cuda()\n",
        "        \n",
        "        testop1 = net1(input_test1)\n",
        "        opt1 = torch.Tensor.cpu(testop1)\n",
        "        out1 = opt1.detach().numpy()\n",
        "        ac1 = accuracy(out1, label1_test, bit)\n",
        "        print(ac1)\n",
        "        ERROR_user1[i, k] = 1 - ac1\n",
        "\n",
        "        input2_test = torch.Tensor(input2_test)\n",
        "        label2_test = torch.Tensor(label2_test)\n",
        "        input_test2 = input2_test.cuda()\n",
        "        label_test2 = label2_test.cuda()\n",
        "        \n",
        "        testop2 = net2(input_test2)\n",
        "        opt2 = torch.Tensor.cpu(testop2)\n",
        "        out2 = opt2.detach().numpy()\n",
        "        ac2 = accuracy(out2, label2_test, bit)\n",
        "        print(ac2)\n",
        "        ERROR_user2[i, k] = 1 - ac2"
      ],
      "execution_count": 11,
      "outputs": [
        {
          "output_type": "stream",
          "text": [
            "testing operation\n",
            "tf.Tensor(0.71010935, shape=(), dtype=float32)\n",
            "tf.Tensor(0.61742383, shape=(), dtype=float32)\n",
            "tf.Tensor(0.7114961, shape=(), dtype=float32)\n",
            "tf.Tensor(0.61865914, shape=(), dtype=float32)\n",
            "tf.Tensor(0.7134638, shape=(), dtype=float32)\n",
            "tf.Tensor(0.6177461, shape=(), dtype=float32)\n",
            "tf.Tensor(0.713917, shape=(), dtype=float32)\n",
            "tf.Tensor(0.6177637, shape=(), dtype=float32)\n",
            "tf.Tensor(0.7151924, shape=(), dtype=float32)\n",
            "tf.Tensor(0.6183008, shape=(), dtype=float32)\n",
            "tf.Tensor(0.7151045, shape=(), dtype=float32)\n",
            "tf.Tensor(0.61836135, shape=(), dtype=float32)\n"
          ],
          "name": "stdout"
        }
      ]
    },
    {
      "cell_type": "code",
      "metadata": {
        "id": "nKZ95JnDFaXt",
        "colab": {
          "base_uri": "https://localhost:8080/"
        },
        "outputId": "de0bc937-8604-4be3-e24f-3cb9f6a40c43"
      },
      "source": [
        "Test = { \"input1_test\" : input1_test, \"input2_test\" : input2_test, \"test_label1\" : label1_test, \"test_label2\" : label2_test }\n",
        "print(\"testing data\")\n",
        "\n",
        "print('User1 test input : {}'.format(input1_test.shape))\n",
        "print('User1 test label : {}'.format(label1_test.shape))\n",
        "print('User2 test input : {}'.format(input2_test.shape))\n",
        "print('User2 test label : {}'.format(label2_test.shape))"
      ],
      "execution_count": 12,
      "outputs": [
        {
          "output_type": "stream",
          "text": [
            "testing data\n",
            "User1 test input : torch.Size([128000, 16])\n",
            "User1 test label : torch.Size([128000, 16])\n",
            "User2 test input : torch.Size([128000, 16])\n",
            "User2 test label : torch.Size([128000, 16])\n"
          ],
          "name": "stdout"
        }
      ]
    },
    {
      "cell_type": "code",
      "metadata": {
        "id": "c64_P4gh6xlC",
        "colab": {
          "base_uri": "https://localhost:8080/",
          "height": 347
        },
        "outputId": "6aeec3e7-2538-46db-cd04-566cff88a960"
      },
      "source": [
        "error1 = np.mean(ERROR_user1, axis=1)\n",
        "error2 = np.mean((ERROR_user2), axis=1)\n",
        "# print(H1_real)\n",
        "plt.figure()\n",
        "plt.semilogy(SNR_db, error1, ls='--', marker='o', label='user1')\n",
        "plt.semilogy(SNR_db, error2, ls='--', marker='+', label='user2')\n",
        "plt.grid()\n",
        "plt.legend()\n",
        "plt.ylim(pow(10, -6), pow(10, 0))\n",
        "plt.xlabel('SNR')\n",
        "plt.ylabel('SER')\n",
        "plt.title('SER of user2 in 4X4 MIMO_NOMA BPSK_DNN')\n",
        "plt.savefig('SER_44MIMO_NOMA_DNN_BPSK')\n",
        "plt.show()\n",
        "print(\"SNR : {}\".format(SNR_db))\n",
        "print(\"bit error for user 1 at testing : {}\".format(error1))\n",
        "print(\"bit error for user 2 at testing : {}\".format(error2))"
      ],
      "execution_count": 13,
      "outputs": [
        {
          "output_type": "display_data",
          "data": {
            "image/png": "[encoded data removed]",
            "text/plain": [
              "<Figure size 432x288 with 1 Axes>"
            ]
          },
          "metadata": {
            "tags": [],
            "needs_background": "light"
          }
        },
        {
          "output_type": "stream",
          "text": [
            "SNR : [ 0  2  4  6  8 10]\n",
            "bit error for user 1 at testing : [0.28989065 0.28850389 0.28653622 0.28608298 0.28480762 0.28489548]\n",
            "bit error for user 2 at testing : [0.38257617 0.38134086 0.38225389 0.3822363  0.3816992  0.38163865]\n"
          ],
          "name": "stdout"
        }
      ]
    },
    {
      "cell_type": "code",
      "metadata": {
        "id": "YtG9M7M-GXLb"
      },
      "source": [
        ""
      ],
      "execution_count": 13,
      "outputs": []
    }
  ]
}